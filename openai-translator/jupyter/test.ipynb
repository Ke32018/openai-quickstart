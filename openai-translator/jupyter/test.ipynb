{
 "cells": [
  {
   "cell_type": "code",
   "execution_count": 1,
   "metadata": {},
   "outputs": [],
   "source": [
    "import os\n",
    "import glob\n",
    "\n",
    "def get_pdf_files(folder_path):\n",
    "    pdf_files = []\n",
    "    for file in glob.glob(os.path.join(folder_path, '*.pdf')):\n",
    "        pdf_files.append(file)\n",
    "    return pdf_files"
   ]
  },
  {
   "cell_type": "code",
   "execution_count": 3,
   "metadata": {},
   "outputs": [
    {
     "name": "stdout",
     "output_type": "stream",
     "text": [
      "文件夹下的PDF文件路径：\n",
      "/home/ke/AIFiled/openai-quickstart/openai-translator/tests/batchDir/test3.pdf\n",
      "/home/ke/AIFiled/openai-quickstart/openai-translator/tests/batchDir/test2.pdf\n"
     ]
    }
   ],
   "source": [
    "# 测试代码\n",
    "folder_path = \"/home/ke/AIFiled/openai-quickstart/openai-translator/tests/batchDir/\"\n",
    "pdf_files = get_pdf_files(folder_path)\n",
    "print(\"文件夹下的PDF文件路径：\")\n",
    "for file in pdf_files:\n",
    "    print(file)"
   ]
  },
  {
   "cell_type": "code",
   "execution_count": null,
   "metadata": {},
   "outputs": [],
   "source": []
  }
 ],
 "metadata": {
  "kernelspec": {
   "display_name": "Python 3",
   "language": "python",
   "name": "python3"
  },
  "language_info": {
   "codemirror_mode": {
    "name": "ipython",
    "version": 3
   },
   "file_extension": ".py",
   "mimetype": "text/x-python",
   "name": "python",
   "nbconvert_exporter": "python",
   "pygments_lexer": "ipython3",
   "version": "3.10.12"
  }
 },
 "nbformat": 4,
 "nbformat_minor": 2
}
